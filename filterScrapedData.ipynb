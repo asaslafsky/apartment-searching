{
 "cells": [
  {
   "cell_type": "code",
   "execution_count": 1,
   "id": "1c664b5a",
   "metadata": {},
   "outputs": [],
   "source": [
    "import glob\n",
    "import pandas as pd\n",
    "import numpy as np"
   ]
  },
  {
   "cell_type": "code",
   "execution_count": 2,
   "id": "0cc3a67b",
   "metadata": {},
   "outputs": [],
   "source": [
    "maxRent = 1800"
   ]
  },
  {
   "cell_type": "code",
   "execution_count": 3,
   "id": "68f2a433",
   "metadata": {},
   "outputs": [],
   "source": [
    "filenames = glob.glob(\"csvs/*.csv\")"
   ]
  },
  {
   "cell_type": "code",
   "execution_count": 57,
   "id": "24edc271",
   "metadata": {},
   "outputs": [],
   "source": [
    "def addUtilitesCost(df, cost):\n",
    "    df['rent_min'] = df['rent_min'] - cost\n",
    "    df['rent_max'] = df['rent_max'] - cost"
   ]
  },
  {
   "cell_type": "code",
   "execution_count": 5,
   "id": "6b28590f",
   "metadata": {},
   "outputs": [],
   "source": [
    "def isLatestScrape(df):\n",
    "    dateToKeep = df.tail(1)['scraping_date'].values[0]\n",
    "    timeToKeep = df.tail(1)['scraping_time'].values[0]\n",
    "    \n",
    "    isLatestDate = df['scraping_date'] == dateToKeep\n",
    "    isLatestTime = df['scraping_time'] == timeToKeep\n",
    "    \n",
    "    return isLatestDate & isLatestTime"
   ]
  },
  {
   "cell_type": "markdown",
   "id": "1c8151df",
   "metadata": {},
   "source": [
    "## Calibre"
   ]
  },
  {
   "cell_type": "code",
   "execution_count": 6,
   "id": "99dbf101",
   "metadata": {},
   "outputs": [],
   "source": [
    "calibre = pd.read_csv(filenames[1])\n",
    "addUtilitesCost(calibre, 288)"
   ]
  },
  {
   "cell_type": "code",
   "execution_count": 7,
   "id": "faa7930b",
   "metadata": {},
   "outputs": [],
   "source": [
    "def calibreApts(calibre):\n",
    "    aptsOfInterest = calibre[isLatestScrape(calibre) & (~calibre['floorplan_name'].str.contains(\"Hampton\")) & \n",
    "                             (calibre['rent_min'] < maxRent)]\n",
    "    groupbyCols = aptsOfInterest.columns[:-3].tolist() + [aptsOfInterest.columns[-1]] + [aptsOfInterest.columns[-3]]\n",
    "    aptsFormatted = aptsOfInterest.groupby(groupbyCols).agg(start_move_in_day=('move_in_day', 'min'),\n",
    "                                                            end_move_in_day=('move_in_day', 'max'))\n",
    "    return aptsFormatted"
   ]
  },
  {
   "cell_type": "code",
   "execution_count": 8,
   "id": "0be388cf",
   "metadata": {},
   "outputs": [
    {
     "data": {
      "text/html": [
       "<div>\n",
       "<style scoped>\n",
       "    .dataframe tbody tr th:only-of-type {\n",
       "        vertical-align: middle;\n",
       "    }\n",
       "\n",
       "    .dataframe tbody tr th {\n",
       "        vertical-align: top;\n",
       "    }\n",
       "\n",
       "    .dataframe thead th {\n",
       "        text-align: right;\n",
       "    }\n",
       "</style>\n",
       "<table border=\"1\" class=\"dataframe\">\n",
       "  <thead>\n",
       "    <tr style=\"text-align: right;\">\n",
       "      <th></th>\n",
       "      <th></th>\n",
       "      <th></th>\n",
       "      <th></th>\n",
       "      <th></th>\n",
       "      <th></th>\n",
       "      <th></th>\n",
       "      <th></th>\n",
       "      <th></th>\n",
       "      <th></th>\n",
       "      <th>start_move_in_day</th>\n",
       "      <th>end_move_in_day</th>\n",
       "    </tr>\n",
       "    <tr>\n",
       "      <th>scraping_date</th>\n",
       "      <th>scraping_time</th>\n",
       "      <th>floorplan_name</th>\n",
       "      <th>bedroom</th>\n",
       "      <th>bathroom</th>\n",
       "      <th>squareFootage</th>\n",
       "      <th>rent_min</th>\n",
       "      <th>rent_max</th>\n",
       "      <th>move_in_year</th>\n",
       "      <th>move_in_month</th>\n",
       "      <th></th>\n",
       "      <th></th>\n",
       "    </tr>\n",
       "  </thead>\n",
       "  <tbody>\n",
       "  </tbody>\n",
       "</table>\n",
       "</div>"
      ],
      "text/plain": [
       "Empty DataFrame\n",
       "Columns: [start_move_in_day, end_move_in_day]\n",
       "Index: []"
      ]
     },
     "execution_count": 8,
     "metadata": {},
     "output_type": "execute_result"
    }
   ],
   "source": [
    "calibreApts(calibre)"
   ]
  },
  {
   "cell_type": "code",
   "execution_count": 9,
   "id": "059083df",
   "metadata": {},
   "outputs": [
    {
     "data": {
      "text/html": [
       "<div>\n",
       "<style scoped>\n",
       "    .dataframe tbody tr th:only-of-type {\n",
       "        vertical-align: middle;\n",
       "    }\n",
       "\n",
       "    .dataframe tbody tr th {\n",
       "        vertical-align: top;\n",
       "    }\n",
       "\n",
       "    .dataframe thead th {\n",
       "        text-align: right;\n",
       "    }\n",
       "</style>\n",
       "<table border=\"1\" class=\"dataframe\">\n",
       "  <thead>\n",
       "    <tr style=\"text-align: right;\">\n",
       "      <th></th>\n",
       "      <th>scraping_date</th>\n",
       "      <th>scraping_time</th>\n",
       "      <th>floorplan_name</th>\n",
       "      <th>bedroom</th>\n",
       "      <th>bathroom</th>\n",
       "      <th>squareFootage</th>\n",
       "      <th>rent_min</th>\n",
       "      <th>rent_max</th>\n",
       "      <th>move_in_month</th>\n",
       "      <th>move_in_day</th>\n",
       "      <th>move_in_year</th>\n",
       "    </tr>\n",
       "  </thead>\n",
       "  <tbody>\n",
       "  </tbody>\n",
       "</table>\n",
       "</div>"
      ],
      "text/plain": [
       "Empty DataFrame\n",
       "Columns: [scraping_date, scraping_time, floorplan_name, bedroom, bathroom, squareFootage, rent_min, rent_max, move_in_month, move_in_day, move_in_year]\n",
       "Index: []"
      ]
     },
     "execution_count": 9,
     "metadata": {},
     "output_type": "execute_result"
    }
   ],
   "source": [
    "calibre[(~calibre['floorplan_name'].str.contains(\"Hampton\")) & (calibre['rent_min'] < maxRent)\n",
    "       ].drop_duplicates(calibre.columns[2:-2], keep='last')"
   ]
  },
  {
   "cell_type": "markdown",
   "id": "36a8e7f5",
   "metadata": {},
   "source": [
    "## Legacy"
   ]
  },
  {
   "cell_type": "code",
   "execution_count": 62,
   "id": "a174f2f0",
   "metadata": {},
   "outputs": [],
   "source": [
    "legacy = pd.read_csv(filenames[0])\n",
    "addUtilitesCost(legacy, 359)"
   ]
  },
  {
   "cell_type": "code",
   "execution_count": 11,
   "id": "42d71225",
   "metadata": {},
   "outputs": [],
   "source": [
    "def legacyApts(legacy):\n",
    "    aptsOfInterest = legacy[(legacy['bedroom'] >= 2) & (legacy['rent_min'] < maxRent) & (isLatestScrape(legacy))] # \n",
    "    groupbyCols = aptsOfInterest.columns[:6].tolist() + [aptsOfInterest.columns[-1]] + [aptsOfInterest.columns[-3]]\n",
    "    aptsFormatted = aptsOfInterest.groupby(groupbyCols).agg(days_range_rent_min_min=('rent_min', 'min'),\n",
    "                                                            days_range_rent_max_max=('rent_max', 'max'),\n",
    "                                                            start_move_in_day=('move_in_day', 'min'),\n",
    "                                                            end_move_in_day=('move_in_day', 'max'))\n",
    "    return aptsFormatted"
   ]
  },
  {
   "cell_type": "code",
   "execution_count": 12,
   "id": "9db61302",
   "metadata": {},
   "outputs": [
    {
     "data": {
      "text/html": [
       "<div>\n",
       "<style scoped>\n",
       "    .dataframe tbody tr th:only-of-type {\n",
       "        vertical-align: middle;\n",
       "    }\n",
       "\n",
       "    .dataframe tbody tr th {\n",
       "        vertical-align: top;\n",
       "    }\n",
       "\n",
       "    .dataframe thead th {\n",
       "        text-align: right;\n",
       "    }\n",
       "</style>\n",
       "<table border=\"1\" class=\"dataframe\">\n",
       "  <thead>\n",
       "    <tr style=\"text-align: right;\">\n",
       "      <th></th>\n",
       "      <th></th>\n",
       "      <th></th>\n",
       "      <th></th>\n",
       "      <th></th>\n",
       "      <th></th>\n",
       "      <th></th>\n",
       "      <th></th>\n",
       "      <th>days_range_rent_min_min</th>\n",
       "      <th>days_range_rent_max_max</th>\n",
       "      <th>start_move_in_day</th>\n",
       "      <th>end_move_in_day</th>\n",
       "    </tr>\n",
       "    <tr>\n",
       "      <th>scraping_date</th>\n",
       "      <th>scraping_time</th>\n",
       "      <th>floorplan_name</th>\n",
       "      <th>bedroom</th>\n",
       "      <th>bathroom</th>\n",
       "      <th>squareFootage</th>\n",
       "      <th>move_in_year</th>\n",
       "      <th>move_in_month</th>\n",
       "      <th></th>\n",
       "      <th></th>\n",
       "      <th></th>\n",
       "      <th></th>\n",
       "    </tr>\n",
       "  </thead>\n",
       "  <tbody>\n",
       "    <tr>\n",
       "      <th rowspan=\"4\" valign=\"top\">2022/06/01</th>\n",
       "      <th rowspan=\"4\" valign=\"top\">23</th>\n",
       "      <th>b1dh_e</th>\n",
       "      <th>2.0</th>\n",
       "      <th>1.0</th>\n",
       "      <th>980.0</th>\n",
       "      <th>2022</th>\n",
       "      <th>6</th>\n",
       "      <td>1739</td>\n",
       "      <td>2282</td>\n",
       "      <td>1</td>\n",
       "      <td>15</td>\n",
       "    </tr>\n",
       "    <tr>\n",
       "      <th rowspan=\"3\" valign=\"top\">b1dh</th>\n",
       "      <th rowspan=\"3\" valign=\"top\">2.0</th>\n",
       "      <th rowspan=\"3\" valign=\"top\">1.0</th>\n",
       "      <th rowspan=\"3\" valign=\"top\">980.0</th>\n",
       "      <th rowspan=\"3\" valign=\"top\">2022</th>\n",
       "      <th>6</th>\n",
       "      <td>1743</td>\n",
       "      <td>2335</td>\n",
       "      <td>1</td>\n",
       "      <td>30</td>\n",
       "    </tr>\n",
       "    <tr>\n",
       "      <th>7</th>\n",
       "      <td>1782</td>\n",
       "      <td>2452</td>\n",
       "      <td>1</td>\n",
       "      <td>31</td>\n",
       "    </tr>\n",
       "    <tr>\n",
       "      <th>8</th>\n",
       "      <td>1782</td>\n",
       "      <td>2782</td>\n",
       "      <td>1</td>\n",
       "      <td>14</td>\n",
       "    </tr>\n",
       "  </tbody>\n",
       "</table>\n",
       "</div>"
      ],
      "text/plain": [
       "                                                                                                      days_range_rent_min_min  \\\n",
       "scraping_date scraping_time floorplan_name bedroom bathroom squareFootage move_in_year move_in_month                            \n",
       "2022/06/01    23            b1dh_e         2.0     1.0      980.0         2022         6                                 1739   \n",
       "                            b1dh           2.0     1.0      980.0         2022         6                                 1743   \n",
       "                                                                                       7                                 1782   \n",
       "                                                                                       8                                 1782   \n",
       "\n",
       "                                                                                                      days_range_rent_max_max  \\\n",
       "scraping_date scraping_time floorplan_name bedroom bathroom squareFootage move_in_year move_in_month                            \n",
       "2022/06/01    23            b1dh_e         2.0     1.0      980.0         2022         6                                 2282   \n",
       "                            b1dh           2.0     1.0      980.0         2022         6                                 2335   \n",
       "                                                                                       7                                 2452   \n",
       "                                                                                       8                                 2782   \n",
       "\n",
       "                                                                                                      start_move_in_day  \\\n",
       "scraping_date scraping_time floorplan_name bedroom bathroom squareFootage move_in_year move_in_month                      \n",
       "2022/06/01    23            b1dh_e         2.0     1.0      980.0         2022         6                              1   \n",
       "                            b1dh           2.0     1.0      980.0         2022         6                              1   \n",
       "                                                                                       7                              1   \n",
       "                                                                                       8                              1   \n",
       "\n",
       "                                                                                                      end_move_in_day  \n",
       "scraping_date scraping_time floorplan_name bedroom bathroom squareFootage move_in_year move_in_month                   \n",
       "2022/06/01    23            b1dh_e         2.0     1.0      980.0         2022         6                           15  \n",
       "                            b1dh           2.0     1.0      980.0         2022         6                           30  \n",
       "                                                                                       7                           31  \n",
       "                                                                                       8                           14  "
      ]
     },
     "execution_count": 12,
     "metadata": {},
     "output_type": "execute_result"
    }
   ],
   "source": [
    "legacyApts(legacy).sort_values(['days_range_rent_min_min', 'move_in_month'])"
   ]
  },
  {
   "cell_type": "code",
   "execution_count": 13,
   "id": "f65d2f5c",
   "metadata": {},
   "outputs": [
    {
     "data": {
      "text/plain": [
       "array(['b1dh', 'b1dh_e'], dtype=object)"
      ]
     },
     "execution_count": 13,
     "metadata": {},
     "output_type": "execute_result"
    }
   ],
   "source": [
    "legacyApts(legacy).reset_index()['floorplan_name'].unique()"
   ]
  },
  {
   "cell_type": "code",
   "execution_count": 17,
   "id": "24bb580b",
   "metadata": {},
   "outputs": [
    {
     "data": {
      "text/html": [
       "<div>\n",
       "<style scoped>\n",
       "    .dataframe tbody tr th:only-of-type {\n",
       "        vertical-align: middle;\n",
       "    }\n",
       "\n",
       "    .dataframe tbody tr th {\n",
       "        vertical-align: top;\n",
       "    }\n",
       "\n",
       "    .dataframe thead th {\n",
       "        text-align: right;\n",
       "    }\n",
       "</style>\n",
       "<table border=\"1\" class=\"dataframe\">\n",
       "  <thead>\n",
       "    <tr style=\"text-align: right;\">\n",
       "      <th></th>\n",
       "      <th>scraping_date</th>\n",
       "      <th>scraping_time</th>\n",
       "      <th>floorplan_name</th>\n",
       "      <th>bedroom</th>\n",
       "      <th>bathroom</th>\n",
       "      <th>squareFootage</th>\n",
       "      <th>rent_min</th>\n",
       "      <th>rent_max</th>\n",
       "      <th>move_in_month</th>\n",
       "      <th>move_in_day</th>\n",
       "      <th>move_in_year</th>\n",
       "    </tr>\n",
       "  </thead>\n",
       "  <tbody>\n",
       "    <tr>\n",
       "      <th>148</th>\n",
       "      <td>2022/05/20</td>\n",
       "      <td>12</td>\n",
       "      <td>b1dh</td>\n",
       "      <td>2.0</td>\n",
       "      <td>1.0</td>\n",
       "      <td>980.0</td>\n",
       "      <td>1776</td>\n",
       "      <td>2312</td>\n",
       "      <td>6</td>\n",
       "      <td>1</td>\n",
       "      <td>2022</td>\n",
       "    </tr>\n",
       "    <tr>\n",
       "      <th>527</th>\n",
       "      <td>2022/05/22</td>\n",
       "      <td>10</td>\n",
       "      <td>b1dh</td>\n",
       "      <td>2.0</td>\n",
       "      <td>1.0</td>\n",
       "      <td>980.0</td>\n",
       "      <td>1775</td>\n",
       "      <td>2311</td>\n",
       "      <td>6</td>\n",
       "      <td>1</td>\n",
       "      <td>2022</td>\n",
       "    </tr>\n",
       "    <tr>\n",
       "      <th>979</th>\n",
       "      <td>2022/05/22</td>\n",
       "      <td>14</td>\n",
       "      <td>b1dh</td>\n",
       "      <td>2.0</td>\n",
       "      <td>1.0</td>\n",
       "      <td>980.0</td>\n",
       "      <td>1775</td>\n",
       "      <td>2311</td>\n",
       "      <td>6</td>\n",
       "      <td>1</td>\n",
       "      <td>2022</td>\n",
       "    </tr>\n",
       "    <tr>\n",
       "      <th>1431</th>\n",
       "      <td>2022/05/22</td>\n",
       "      <td>23</td>\n",
       "      <td>b1dh</td>\n",
       "      <td>2.0</td>\n",
       "      <td>1.0</td>\n",
       "      <td>980.0</td>\n",
       "      <td>1775</td>\n",
       "      <td>2311</td>\n",
       "      <td>6</td>\n",
       "      <td>1</td>\n",
       "      <td>2022</td>\n",
       "    </tr>\n",
       "    <tr>\n",
       "      <th>1883</th>\n",
       "      <td>2022/05/23</td>\n",
       "      <td>0</td>\n",
       "      <td>b1dh</td>\n",
       "      <td>2.0</td>\n",
       "      <td>1.0</td>\n",
       "      <td>980.0</td>\n",
       "      <td>1775</td>\n",
       "      <td>2311</td>\n",
       "      <td>6</td>\n",
       "      <td>1</td>\n",
       "      <td>2022</td>\n",
       "    </tr>\n",
       "    <tr>\n",
       "      <th>...</th>\n",
       "      <td>...</td>\n",
       "      <td>...</td>\n",
       "      <td>...</td>\n",
       "      <td>...</td>\n",
       "      <td>...</td>\n",
       "      <td>...</td>\n",
       "      <td>...</td>\n",
       "      <td>...</td>\n",
       "      <td>...</td>\n",
       "      <td>...</td>\n",
       "      <td>...</td>\n",
       "    </tr>\n",
       "    <tr>\n",
       "      <th>97937</th>\n",
       "      <td>2022/06/01</td>\n",
       "      <td>18</td>\n",
       "      <td>b1dh</td>\n",
       "      <td>2.0</td>\n",
       "      <td>1.0</td>\n",
       "      <td>980.0</td>\n",
       "      <td>1734</td>\n",
       "      <td>2319</td>\n",
       "      <td>6</td>\n",
       "      <td>1</td>\n",
       "      <td>2022</td>\n",
       "    </tr>\n",
       "    <tr>\n",
       "      <th>98368</th>\n",
       "      <td>2022/06/01</td>\n",
       "      <td>19</td>\n",
       "      <td>b1dh</td>\n",
       "      <td>2.0</td>\n",
       "      <td>1.0</td>\n",
       "      <td>980.0</td>\n",
       "      <td>1734</td>\n",
       "      <td>2319</td>\n",
       "      <td>6</td>\n",
       "      <td>1</td>\n",
       "      <td>2022</td>\n",
       "    </tr>\n",
       "    <tr>\n",
       "      <th>98799</th>\n",
       "      <td>2022/06/01</td>\n",
       "      <td>21</td>\n",
       "      <td>b1dh</td>\n",
       "      <td>2.0</td>\n",
       "      <td>1.0</td>\n",
       "      <td>980.0</td>\n",
       "      <td>1734</td>\n",
       "      <td>2319</td>\n",
       "      <td>6</td>\n",
       "      <td>1</td>\n",
       "      <td>2022</td>\n",
       "    </tr>\n",
       "    <tr>\n",
       "      <th>99217</th>\n",
       "      <td>2022/06/01</td>\n",
       "      <td>22</td>\n",
       "      <td>b1dh</td>\n",
       "      <td>2.0</td>\n",
       "      <td>1.0</td>\n",
       "      <td>980.0</td>\n",
       "      <td>1734</td>\n",
       "      <td>2319</td>\n",
       "      <td>6</td>\n",
       "      <td>1</td>\n",
       "      <td>2022</td>\n",
       "    </tr>\n",
       "    <tr>\n",
       "      <th>99636</th>\n",
       "      <td>2022/06/01</td>\n",
       "      <td>23</td>\n",
       "      <td>b1dh</td>\n",
       "      <td>2.0</td>\n",
       "      <td>1.0</td>\n",
       "      <td>980.0</td>\n",
       "      <td>1748</td>\n",
       "      <td>2335</td>\n",
       "      <td>6</td>\n",
       "      <td>1</td>\n",
       "      <td>2022</td>\n",
       "    </tr>\n",
       "  </tbody>\n",
       "</table>\n",
       "<p>219 rows × 11 columns</p>\n",
       "</div>"
      ],
      "text/plain": [
       "      scraping_date  scraping_time floorplan_name  bedroom  bathroom  \\\n",
       "148      2022/05/20             12           b1dh      2.0       1.0   \n",
       "527      2022/05/22             10           b1dh      2.0       1.0   \n",
       "979      2022/05/22             14           b1dh      2.0       1.0   \n",
       "1431     2022/05/22             23           b1dh      2.0       1.0   \n",
       "1883     2022/05/23              0           b1dh      2.0       1.0   \n",
       "...             ...            ...            ...      ...       ...   \n",
       "97937    2022/06/01             18           b1dh      2.0       1.0   \n",
       "98368    2022/06/01             19           b1dh      2.0       1.0   \n",
       "98799    2022/06/01             21           b1dh      2.0       1.0   \n",
       "99217    2022/06/01             22           b1dh      2.0       1.0   \n",
       "99636    2022/06/01             23           b1dh      2.0       1.0   \n",
       "\n",
       "       squareFootage  rent_min  rent_max  move_in_month  move_in_day  \\\n",
       "148            980.0      1776      2312              6            1   \n",
       "527            980.0      1775      2311              6            1   \n",
       "979            980.0      1775      2311              6            1   \n",
       "1431           980.0      1775      2311              6            1   \n",
       "1883           980.0      1775      2311              6            1   \n",
       "...              ...       ...       ...            ...          ...   \n",
       "97937          980.0      1734      2319              6            1   \n",
       "98368          980.0      1734      2319              6            1   \n",
       "98799          980.0      1734      2319              6            1   \n",
       "99217          980.0      1734      2319              6            1   \n",
       "99636          980.0      1748      2335              6            1   \n",
       "\n",
       "       move_in_year  \n",
       "148            2022  \n",
       "527            2022  \n",
       "979            2022  \n",
       "1431           2022  \n",
       "1883           2022  \n",
       "...             ...  \n",
       "97937          2022  \n",
       "98368          2022  \n",
       "98799          2022  \n",
       "99217          2022  \n",
       "99636          2022  \n",
       "\n",
       "[219 rows x 11 columns]"
      ]
     },
     "execution_count": 17,
     "metadata": {},
     "output_type": "execute_result"
    }
   ],
   "source": [
    "legacy[(legacy['floorplan_name'] == 'b1dh') & (legacy['move_in_month'] == 6) & (legacy['move_in_day'] == 1)]"
   ]
  },
  {
   "cell_type": "code",
   "execution_count": 25,
   "id": "3e89e6e5",
   "metadata": {},
   "outputs": [],
   "source": [
    "import seaborn as sns\n",
    "import matplotlib.pyplot as plt"
   ]
  },
  {
   "cell_type": "code",
   "execution_count": 39,
   "id": "b36c4371",
   "metadata": {},
   "outputs": [
    {
     "data": {
      "text/plain": [
       "([0, 1, 2, 3, 4, 5, 6, 7, 8, 9],\n",
       " [Text(0, 0, ''),\n",
       "  Text(0, 0, ''),\n",
       "  Text(0, 0, ''),\n",
       "  Text(0, 0, ''),\n",
       "  Text(0, 0, ''),\n",
       "  Text(0, 0, ''),\n",
       "  Text(0, 0, ''),\n",
       "  Text(0, 0, ''),\n",
       "  Text(0, 0, ''),\n",
       "  Text(0, 0, '')])"
      ]
     },
     "execution_count": 39,
     "metadata": {},
     "output_type": "execute_result"
    },
    {
     "data": {
      "image/png": "[encoded data removed]",
      "text/plain": [
       "<Figure size 1080x576 with 1 Axes>"
      ]
     },
     "metadata": {
      "needs_background": "light"
     },
     "output_type": "display_data"
    }
   ],
   "source": [
    "plt.figure(figsize = (15,8))\n",
    "ax = sns.lineplot(x='scraping_date', y='rent_min',\n",
    "             data=legacy[(legacy['floorplan_name'] == 'b1dh') & (legacy['move_in_month'] == 6) & (legacy['move_in_day'] == 1)])\n",
    "plt.xticks(rotation=45)"
   ]
  },
  {
   "cell_type": "code",
   "execution_count": 45,
   "id": "970c5839",
   "metadata": {},
   "outputs": [],
   "source": [
    "legacy[['scraping_year', 'scraping_month', 'scraping_day']] = legacy.scraping_date.str.split('/', expand=True).apply(pd.to_numeric)"
   ]
  },
  {
   "cell_type": "code",
   "execution_count": null,
   "id": "f130ad6f",
   "metadata": {},
   "outputs": [],
   "source": [
    "from datetime import date\n",
    "\n",
    "d0 = date(2008, 8, 18)\n",
    "d1 = date(2008, 9, 26)\n",
    "delta = d1 - d0\n",
    "print(delta.days)"
   ]
  },
  {
   "cell_type": "code",
   "execution_count": null,
   "id": "24ed237e",
   "metadata": {},
   "outputs": [],
   "source": [
    "plt.figure(figsize = (15,8))\n",
    "ax = sns.lineplot(x='scraping_date', y='rent_min',\n",
    "             data=legacy[(legacy['floorplan_name'] == 'b1dh') & (legacy['move_in_month'] == 6) & (legacy['move_in_day'] == 1)])\n",
    "plt.xticks(rotation=45)"
   ]
  },
  {
   "cell_type": "code",
   "execution_count": null,
   "id": "c7f909e3",
   "metadata": {},
   "outputs": [],
   "source": [
    "legacy[(legacy['bedroom'] >= 2) & \n",
    "       (legacy['rent_min'] < maxRent) & \n",
    "       (isLatestScrape(legacy))].sort_values(['floorplan_name', 'move_in_month', 'move_in_day'])"
   ]
  },
  {
   "cell_type": "markdown",
   "id": "2a3fac7c",
   "metadata": {},
   "source": [
    "## Madison"
   ]
  },
  {
   "cell_type": "code",
   "execution_count": null,
   "id": "10955be0",
   "metadata": {},
   "outputs": [],
   "source": [
    "madison = pd.read_csv(filenames[2])\n",
    "addUtilitesCost(madison, 353)"
   ]
  },
  {
   "cell_type": "code",
   "execution_count": null,
   "id": "8d7ff65d",
   "metadata": {},
   "outputs": [],
   "source": [
    "def madisonApts(madison):\n",
    "    aptsOfInterest = madison[isLatestScrape(madison) & (madison['bedroom'] >= 2) & (madison['rent_min'] < maxRent)]\n",
    "    return aptsOfInterest"
   ]
  },
  {
   "cell_type": "code",
   "execution_count": null,
   "id": "749593ab",
   "metadata": {},
   "outputs": [],
   "source": [
    "madisonApts(madison)"
   ]
  },
  {
   "cell_type": "code",
   "execution_count": null,
   "id": "87c51561",
   "metadata": {
    "scrolled": false
   },
   "outputs": [],
   "source": [
    "madison[(madison['bedroom'] >= 2) & (madison['rent_min'] < maxRent)].drop_duplicates(madison.columns[2:-2], keep='last')"
   ]
  }
 ],
 "metadata": {
  "kernelspec": {
   "display_name": "Python 3",
   "language": "python",
   "name": "python3"
  },
  "language_info": {
   "codemirror_mode": {
    "name": "ipython",
    "version": 3
   },
   "file_extension": ".py",
   "mimetype": "text/x-python",
   "name": "python",
   "nbconvert_exporter": "python",
   "pygments_lexer": "ipython3",
   "version": "3.8.8"
  }
 },
 "nbformat": 4,
 "nbformat_minor": 5
}
